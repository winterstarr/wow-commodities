﻿{
 "cells": [
  {
   "cell_type": "code",
   "id": "initial_id",
   "metadata": {
    "collapsed": true,
    "ExecuteTime": {
     "end_time": "2024-06-30T21:06:58.917796Z",
     "start_time": "2024-06-30T21:06:57.275805Z"
    }
   },
   "source": [
    "from pathlib import Path\n",
    "import csv\n",
    "from datetime import datetime\n",
    "from collections import defaultdict\n",
    "import pandas as pd\n",
    "from tqdm import tqdm"
   ],
   "outputs": [],
   "execution_count": 1
  },
  {
   "metadata": {
    "ExecuteTime": {
     "end_time": "2024-06-30T21:06:58.954205Z",
     "start_time": "2024-06-30T21:06:58.918800Z"
    }
   },
   "cell_type": "code",
   "source": "files = sorted(list(Path(\"data\").iterdir()))",
   "id": "1b70d46edf9609a6",
   "outputs": [],
   "execution_count": 2
  },
  {
   "metadata": {
    "ExecuteTime": {
     "end_time": "2024-06-30T21:09:49.872073Z",
     "start_time": "2024-06-30T21:09:49.869533Z"
    }
   },
   "cell_type": "code",
   "source": "out_dir = Path(\"item_data\")",
   "id": "7809c23f272bc2ed",
   "outputs": [],
   "execution_count": 7
  },
  {
   "metadata": {
    "ExecuteTime": {
     "end_time": "2024-06-30T21:09:55.740633Z",
     "start_time": "2024-06-30T21:09:55.737331Z"
    }
   },
   "cell_type": "code",
   "source": "out_dir.mkdir(exist_ok=True)",
   "id": "24df95e267121b1",
   "outputs": [],
   "execution_count": 8
  },
  {
   "metadata": {
    "ExecuteTime": {
     "end_time": "2024-06-30T21:09:57.018227Z",
     "start_time": "2024-06-30T21:09:55.741641Z"
    }
   },
   "cell_type": "code",
   "source": "all_data = defaultdict(list)",
   "id": "85d93774523221a6",
   "outputs": [],
   "execution_count": 9
  },
  {
   "metadata": {
    "ExecuteTime": {
     "end_time": "2024-06-30T21:17:33.393046Z",
     "start_time": "2024-06-30T21:09:59.442935Z"
    }
   },
   "cell_type": "code",
   "source": [
    "for file in tqdm(files):\n",
    "    date = file.stem\n",
    "    with open(file, mode='r') as infile:\n",
    "        reader = csv.reader(infile)\n",
    "        next(reader)\n",
    "        for row in reader:\n",
    "            item_id = row[0]\n",
    "            data = row[1:]\n",
    "            csv_row = f'{date},' + ','.join(data) + '\\n'\n",
    "            output_path = out_dir / f'{item_id}.csv'\n",
    "            all_data[item_id].append(csv_row)"
   ],
   "id": "c92e05cad7adc02d",
   "outputs": [
    {
     "name": "stderr",
     "output_type": "stream",
     "text": [
      "100%|██████████| 13588/13588 [07:33<00:00, 29.93it/s]\n"
     ]
    }
   ],
   "execution_count": 10
  },
  {
   "metadata": {
    "ExecuteTime": {
     "end_time": "2024-06-30T21:18:52.102663Z",
     "start_time": "2024-06-30T21:17:33.394051Z"
    }
   },
   "cell_type": "code",
   "source": [
    "for item_id, rows in tqdm(all_data.items()):\n",
    "    with open(f\"item_data/{item_id}.csv\", \"w\") as f:\n",
    "        content = \"timestamp,min_price,median,quantity\\n\" + \"\".join(rows)\n",
    "        f.write(content)"
   ],
   "id": "c6e332f295febf8c",
   "outputs": [
    {
     "name": "stderr",
     "output_type": "stream",
     "text": [
      "100%|██████████| 9736/9736 [01:18<00:00, 123.71it/s]\n"
     ]
    }
   ],
   "execution_count": 11
  },
  {
   "metadata": {},
   "cell_type": "code",
   "outputs": [],
   "execution_count": null,
   "source": "",
   "id": "381f2e21f147420d"
  }
 ],
 "metadata": {
  "kernelspec": {
   "display_name": "Python 3",
   "language": "python",
   "name": "python3"
  },
  "language_info": {
   "codemirror_mode": {
    "name": "ipython",
    "version": 2
   },
   "file_extension": ".py",
   "mimetype": "text/x-python",
   "name": "python",
   "nbconvert_exporter": "python",
   "pygments_lexer": "ipython2",
   "version": "2.7.6"
  }
 },
 "nbformat": 4,
 "nbformat_minor": 5
}
